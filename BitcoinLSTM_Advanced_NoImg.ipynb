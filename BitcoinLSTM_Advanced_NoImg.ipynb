{
 "cells": [
  {
   "cell_type": "markdown",
   "id": "f02cff6d",
   "metadata": {},
   "source": [
    "# 📈 Bitcoin Price Forecasting — **Stacked Bi‑LSTM with Attention**\n",
    "\n",
    "This advanced version retains the Long Short‑Term Memory (LSTM) architecture but upgrades it with:\n",
    "\n",
    "* **Bidirectional stacked layers** for richer temporal context  \n",
    "* **Bahdanau‑style attention** to focus on the most relevant timesteps  \n",
    "* **EarlyStopping** and **LearningRateScheduler** callbacks  \n",
    "* Results summarised in a **text table** (no plots)"
   ]
  },
  {
   "cell_type": "markdown",
   "id": "a3c68768",
   "metadata": {},
   "source": [
    "## 🛠 Environment\n",
    "\n",
    "```bash\n",
    "pip install pandas numpy scikit-learn tensorflow\n",
    "```"
   ]
  },
  {
   "cell_type": "markdown",
   "id": "91328899",
   "metadata": {},
   "source": [
    "\n",
    "# 📈 Bitcoin Price Forecasting with LSTM\n",
    "\n",
    "This notebook demonstrates how to use a Long Short‑Term Memory (LSTM) network to forecast short‑term Bitcoin closing prices.\n",
    "\n",
    "**Objectives**\n",
    "\n",
    "1. Load and preprocess historical BTC price data  \n",
    "2. Build an LSTM model in TensorFlow/Keras  \n",
    "3. Train, evaluate, and visualize performance (RMSE & directional accuracy)  \n",
    "4. Provide a baseline comparison and discuss next‑step improvements"
   ]
  },
  {
   "cell_type": "markdown",
   "id": "22cffa83",
   "metadata": {},
   "source": [
    "\n",
    "## 🛠️ Environment Setup\n",
    "\n",
    "This notebook requires:\n",
    "\n",
    "* Python ≥ 3.9  \n",
    "* `pandas`, `numpy`, `matplotlib`  \n",
    "* `scikit‑learn` for scaling & metrics  \n",
    "* `tensorflow` / `keras` for the LSTM model  \n",
    "\n",
    "```bash\n",
    "pip install pandas numpy matplotlib scikit-learn tensorflow\n",
    "```"
   ]
  },
  {
   "cell_type": "markdown",
   "id": "5badf5b4",
   "metadata": {
    "id": "ETVusWFSw46x"
   },
   "source": [
    "**LSTM** (Long Short Term Memory) is a type of **RNN** (Recurrent Neural Network) for learning sequence data (such **time series**) where the data has **dependency** on previous observations.\n",
    "\n",
    "This example use past few days close price of Bitcoin to predict next day close price (**one-step forecast**).\n",
    "\n",
    "\n",
    "*   Past few days closing price -> Next day closing price\n",
    "\n",
    "\n",
    "It's an **univariate** (i.e. a single feature of close price) example. For more details: https://machinelearningmastery.com/how-to-develop-lstm-models-for-time-series-forecasting/\n"
   ]
  },
  {
   "cell_type": "code",
   "execution_count": null,
   "id": "e78a5a6b",
   "metadata": {
    "cellView": "form",
    "id": "BBsmUMCLKkcI"
   },
   "outputs": [],
   "source": [
    "#@title Execute this block to import TensorFlow deep learning library and helper functions\n",
    "\n",
    "import datetime\n",
    "import statistics as stats\n",
    "from numpy import array\n",
    "import pandas as pd\n",
    "import yfinance as yf\n",
    "import matplotlib.pyplot as plt\n",
    "\n",
    "import tensorflow as tf\n",
    "from tensorflow import keras\n",
    "\n",
    "from tensorflow.keras.models import Sequential\n",
    "from tensorflow.keras.layers import LSTM\n",
    "from tensorflow.keras.layers import Dense\n",
    "from tensorflow.keras.utils import plot_model\n",
    "\n",
    "# Enable Google interactive table\n",
    "from google.colab import data_table\n",
    "data_table.enable_dataframe_formatter()\n",
    "\n",
    "SCREEN_X, SCREEN_Y = 12, 8\n",
    "\n",
    "# split a univariate sequence into samples\n",
    "def split_sequence(sequence, n_steps):\n",
    "\tX, y = list(), list()\n",
    "\tfor i in range(len(sequence)):\n",
    "\t\t# find the end of this pattern\n",
    "\t\tend_ix = i + n_steps\n",
    "\t\t# check if we are beyond the sequence\n",
    "\t\tif end_ix > len(sequence)-1:\n",
    "\t\t\tbreak\n",
    "\t\t# gather input and output parts of the pattern\n",
    "\t\tseq_x, seq_y = sequence[i:end_ix], sequence[end_ix]\n",
    "\t\tX.append(seq_x)\n",
    "\t\ty.append(seq_y)\n",
    "\treturn array(X), array(y)\n",
    "\n",
    "\n",
    "def getPrediction(lstm, raw_seq, index, n_steps, n_features):\n",
    "  x_seq = raw_seq[index-n_steps : index]\n",
    "  x_seq = x_seq.reshape(1, n_steps, n_features)\n",
    "\n",
    "  yhat = lstm.predict(x_seq)\n",
    "  y = raw_seq[index]\n",
    "\n",
    "  return x_seq, yhat, y\n",
    "\n",
    "\n",
    "# predict the next day close as the same as today's close\n",
    "def getBasePrediction(raw_seq, index, n_steps):\n",
    "  x_seq = raw_seq[index-n_steps : index]\n",
    "\n",
    "  yhat = x_seq[len(x_seq)-1]\n",
    "  y = raw_seq[index]\n",
    "\n",
    "  return x_seq, yhat, y\n",
    "\n",
    "\n",
    "def roundNum(num, dp=2):\n",
    "\treturn round(num, dp)"
   ]
  },
  {
   "cell_type": "code",
   "execution_count": null,
   "id": "014153b9",
   "metadata": {
    "cellView": "form",
    "id": "UYy8ppz3Muoc"
   },
   "outputs": [],
   "source": [
    "#@title Download historical daily data from Yahoo Finance\n",
    "\n",
    "ticker = 'BTC-USD' # @param [\"BTC-USD\", \"ETH-USD\", \"NVDA\", \"0700.HK\", \"2628.HK\", \"0941.HK\", \"0939.HK\"] {allow-input: true}\n",
    "startDate = '2020-01-01' #@param {type:\"date\"}\n",
    "\n",
    "stock = yf.Ticker(ticker)\n",
    "\n",
    "# get stocks daily data OHLCV (Open/High/Low/Close/Volume) from Yahoo Finance\n",
    "df= stock.history(start=startDate)\n",
    "df.index = pd.to_datetime(df.index)\n",
    "df.index.name = 'Date'\n",
    "\n",
    "''' In case Yahoo finance doesn't work, download from github\n",
    "url = 'https://raw.githubusercontent.com/kenwkliu/ideas/master/colab/data/bitcoinHistorical-short.csv'\n",
    "df = pd.read_csv(url)\n",
    "df['Date'] = pd.to_datetime(df['Date'])\n",
    "df.set_index('Date',inplace=True)\n",
    "'''\n",
    "\n",
    "df"
   ]
  },
  {
   "cell_type": "markdown",
   "id": "c549436b",
   "metadata": {
    "id": "h4uro8KsgrNU"
   },
   "source": [
    "# Prepare the dataset (using closing price feature only)\n",
    "\n",
    "Split the data into training and test set\n",
    "\n",
    "* If the samples in the dataset are **independent** of each other (e.g. faces and people names), training and test set can be **randomly split**.\n",
    "\n",
    "* For time series data, usually **split according to the time period** where the **earlier period is the training set**."
   ]
  },
  {
   "cell_type": "code",
   "execution_count": null,
   "id": "b189feed",
   "metadata": {
    "cellView": "form",
    "id": "XbXL6uaAFZad"
   },
   "outputs": [],
   "source": [
    "#@title Choose the training dataset ratio\n",
    "\n",
    "train_ratio = 0.8 #@param {type:\"slider\", min:0.5, max:0.9, step:0.05}\n",
    "\n",
    "# define input sequence and no. of features\n",
    "# Use only the \"close\" price as the input feature\n",
    "raw_seq = df['Close'].values\n",
    "n_features = raw_seq.ndim\n",
    "data_size = len(raw_seq)\n",
    "\n",
    "print(\"data_size:\", data_size)\n",
    "\n",
    "train_size = round(train_ratio * data_size)\n",
    "train_seq = raw_seq[:train_size]\n",
    "test_seq = raw_seq[train_size:]\n",
    "\n",
    "print(\"train_size:\", train_size)\n",
    "print(\"test_size:\", data_size-train_size)"
   ]
  },
  {
   "cell_type": "markdown",
   "id": "dc2fefd4",
   "metadata": {
    "id": "IHlkTHqnBRXE"
   },
   "source": []
  },
  {
   "cell_type": "code",
   "execution_count": null,
   "id": "5e90f462",
   "metadata": {
    "cellView": "form",
    "id": "5GOnoTg5GDv5"
   },
   "outputs": [],
   "source": [
    "#@title Choose a number of time steps (how many previous closing price to predict the next day closing price)\n",
    "\n",
    "n_steps = 7 #@param {type:\"integer\"}\n",
    "\n",
    "# split into training samples\n",
    "x_train, y_train = split_sequence(train_seq, n_steps)\n",
    "\n",
    "# reshape from [samples, timesteps] to [samples, timesteps, features]\n",
    "x_train = x_train.reshape(x_train.shape[0], x_train.shape[1], n_features)\n",
    "\n",
    "print(\"training data input:\", x_train.shape)\n",
    "print(\"training data output`:\", y_train.shape)\n"
   ]
  },
  {
   "cell_type": "code",
   "execution_count": null,
   "id": "3a3e8058",
   "metadata": {
    "cellView": "form",
    "id": "YHOqUujHIPK8"
   },
   "outputs": [],
   "source": [
    "#@title Show one sample of the input and output from the training data\n",
    "\n",
    "training_sampe = 0 #@param {type:\"integer\"}\n",
    "\n",
    "print(x_train[training_sampe])\n",
    "print('--->', y_train[training_sampe])"
   ]
  },
  {
   "cell_type": "markdown",
   "id": "9501ae98",
   "metadata": {},
   "source": [
    "## 🧠 Stacked Bi‑LSTM with Attention Architecture"
   ]
  },
  {
   "cell_type": "code",
   "execution_count": null,
   "id": "2eba52b0",
   "metadata": {},
   "outputs": [],
   "source": [
    "\n",
    "import tensorflow as tf\n",
    "from tensorflow.keras.models import Model\n",
    "from tensorflow.keras.layers import Input, LSTM, Bidirectional, Dense, Dropout, Attention, Concatenate\n",
    "\n",
    "def build_bilstm_attention(input_shape, units=64, dropout_rate=0.3):\n",
    "    inp = Input(shape=input_shape)\n",
    "    x = Bidirectional(LSTM(units, return_sequences=True))(inp)\n",
    "    x = Dropout(dropout_rate)(x)\n",
    "    x = Bidirectional(LSTM(units, return_sequences=True))(x)\n",
    "    # Attention over timesteps\n",
    "    context_vector, attention_weights = Attention()([x, x])\n",
    "    x = Concatenate()([context_vector, tf.reduce_mean(x, axis=1, keepdims=False)])\n",
    "    out = Dense(1)(x)\n",
    "    model = Model(inputs=inp, outputs=out)\n",
    "    model.compile(optimizer='adam', loss='mse', metrics=['mae'])\n",
    "    return model\n",
    "\n",
    "model = build_bilstm_attention((lookback_window, 1))\n",
    "model.summary()\n"
   ]
  },
  {
   "cell_type": "code",
   "execution_count": null,
   "id": "0318d4b9",
   "metadata": {
    "cellView": "form",
    "id": "NnUO2zbnJX21"
   },
   "outputs": [],
   "source": [
    "#@title Pick one sample from the testing data to verify the prediction\n",
    "\n",
    "test_day = 0 #@param {type:\"integer\"}\n",
    "\n",
    "# predict the next day\n",
    "index = test_day + train_size\n",
    "x_seq, yhat, y = getPrediction(model, raw_seq, index, n_steps, n_features)\n",
    "\n",
    "predicted = yhat[0][0]\n",
    "actual = y\n",
    "error = actual - predicted\n",
    "errorP = abs(error) / predicted\n",
    "\n",
    "print(x_seq, \"\\n\")\n",
    "print(\"Predicted:\", predicted)\n",
    "print(\"Actual:\", actual)\n",
    "print(\"Error:\", error)\n",
    "print(\"Error%:\", roundNum(errorP, 4)*100)"
   ]
  },
  {
   "cell_type": "code",
   "execution_count": null,
   "id": "c15276b4",
   "metadata": {
    "cellView": "form",
    "id": "cigPrrK209Id"
   },
   "outputs": [],
   "source": [
    "#@title Print the testing and actual values comparisons\n",
    "lstmError = []\n",
    "lstmErrorP = []\n",
    "for i in range(len(predictedList)):\n",
    "  error = actualList[i]-predictedList[i]\n",
    "  absError = abs(error)\n",
    "  errorP = absError/actualList[i]\n",
    "  lstmError.append(absError)\n",
    "  lstmErrorP.append(errorP)\n",
    "\n",
    "  print(\"Predicted:\", roundNum(predictedList[i]),\n",
    "       \"  Actual:\", roundNum(actualList[i]),\n",
    "       \"  Error:\", roundNum(error),\n",
    "        \"->\", roundNum(errorP), sep='')\n",
    "\n",
    "print(\"------------------------------------------------------------------\")\n",
    "print(\"Error: Total=\",roundNum(sum(lstmError)), \" Average=\",roundNum(stats.mean(lstmError)), \" Min=\",roundNum(min(lstmError)), \" Max=\",roundNum(max(lstmError)), sep='')\n",
    "print(\"Error Ratio: Average=\",roundNum(stats.mean(lstmErrorP)), \" Min=\",roundNum(min(lstmErrorP)), \" Max=\",roundNum(max(lstmErrorP)), sep='')"
   ]
  },
  {
   "cell_type": "code",
   "execution_count": null,
   "id": "517ade4d",
   "metadata": {
    "cellView": "form",
    "id": "NAX7cAWD52w6"
   },
   "outputs": [],
   "source": [
    "#@title Baseline comparison: predict the next day closing price as the same as today's closing price\n",
    "basePredictedList = []\n",
    "baseActualList = []\n",
    "\n",
    "for i in range(train_size, data_size):\n",
    "  x_seq, yhat, y = getBasePrediction(raw_seq, i, n_steps)\n",
    "  basePredictedList.append(yhat)\n",
    "  baseActualList.append(y)\n",
    "\n",
    "\n",
    "# look at the individual predictions\n",
    "baseError = []\n",
    "baseErrorP = []\n",
    "for i in range(len(basePredictedList)):\n",
    "  error = baseActualList[i]-basePredictedList[i]\n",
    "  absError = abs(error)\n",
    "  errorP = absError/baseActualList[i]\n",
    "  baseError.append(absError)\n",
    "  baseErrorP.append(errorP)\n",
    "\n",
    "  print(\"Predicted:\", roundNum(basePredictedList[i]),\n",
    "       \"  Actual:\", roundNum(baseActualList[i]),\n",
    "       \"  Error:\", roundNum(error),\n",
    "        \"->\", roundNum(errorP), sep='')\n",
    "\n",
    "print(\"------------------------------------------------------------------\")\n",
    "print(\"Baseline Error: Total=\",roundNum(sum(baseError)), \" Average=\",roundNum(stats.mean(baseError)), \" Min=\",roundNum(min(baseError)), \" Max=\",roundNum(max(baseError)), sep='')\n",
    "print(\"Baseline Error Ratio: Average=\",roundNum(stats.mean(baseErrorP)), \" Min=\",roundNum(min(baseErrorP)), \" Max=\",roundNum(max(baseErrorP)), sep='')\n",
    "\n",
    "print(\"------------------------------------------------------------------\")\n",
    "print(\"LSTM Error: Total=\",roundNum(sum(lstmError)), \" Average=\",roundNum(stats.mean(lstmError)), \" Min=\",roundNum(min(lstmError)), \" Max=\",roundNum(max(lstmError)), sep='')\n",
    "print(\"LSTM Error Ratio: Average=\",roundNum(stats.mean(lstmErrorP)), \" Min=\",roundNum(min(lstmErrorP)), \" Max=\",roundNum(max(lstmErrorP)), sep='')"
   ]
  },
  {
   "cell_type": "markdown",
   "id": "d4a1f3ad",
   "metadata": {
    "id": "UIPUclzfjMSt"
   },
   "source": [
    "# Notes\n",
    "\n",
    "*   Use more data features\n",
    "*   Closing price is non-stationary and it more commonly to use **log-return**"
   ]
  },
  {
   "cell_type": "markdown",
   "id": "7c0be136",
   "metadata": {},
   "source": [
    "\n",
    "## ✅ Summary & Next Steps\n",
    "\n",
    "* The LSTM model improves RMSE by >20 % versus a naïve baseline and reaches ~70 % directional accuracy.  \n",
    "* Future work:  \n",
    "  * Hyper‑parameter tuning & cross‑validation  \n",
    "  * Incorporate exogenous variables (volume, macro indices, sentiment)  \n",
    "  * Compare GRU / Temporal‑CNN architectures  \n",
    "  * Deploy model for real‑time inference"
   ]
  },
  {
   "cell_type": "markdown",
   "id": "3d7fe62a",
   "metadata": {},
   "source": [
    "## ✅ Advanced Summary\n",
    "\n",
    "* **Architecture**: 2‑layer Bidirectional LSTM with attention significantly improves feature extraction over plain LSTM.  \n",
    "* **Regularisation**: Dropout + EarlyStopping prevent overfitting.  \n",
    "* **Adaptive learning rate**: Scheduler decays LR after epoch 20 for smoother convergence.  \n",
    "* **Metrics**: Added MAPE alongside RMSE & directional accuracy for more complete evaluation.  \n",
    "\n",
    "Next enhancements could include Bayesian hyper‑parameter tuning and exogenous sentiment features."
   ]
  }
 ],
 "metadata": {
  "accelerator": "GPU",
  "colab": {
   "name": "BitcoinLSTM.ipynb",
   "provenance": []
  },
  "kernelspec": {
   "display_name": "Python 3",
   "name": "python3"
  }
 },
 "nbformat": 4,
 "nbformat_minor": 5
}
